{
 "cells": [
  {
   "cell_type": "markdown",
   "id": "496a7869",
   "metadata": {},
   "source": [
    "# 5. Improving the Model\n",
    "\n",
    "\n",
    "First Model - Baseline Model\n",
    "First Predictions - Baseline Prediction\n",
    "\n",
    "As you go on after the first model we improve upon the base line model\n",
    "Two main ways - \n",
    "#### 1. Data Prespective \n",
    "    * Data Quantity: Could we collect more data?(The more data the better)\n",
    "    * Data Quality: Could we improve our data?(More features)\n",
    "#### 2. Model Prespective\n",
    "    * Is there a better model we can use? (Sklearn ML map)\n",
    "    * Could we improve the current model? (Hyperparameter tunning)\n",
    "    \n",
    "#### Hyperparameter vs. Parameters \n",
    "    * Parameter - Model finds these patterns in data\n",
    "    * Hyperparameter - Setting in the model you can adjust to potentially its ability to \n",
    "    find patterns. \n",
    "\n",
    "#### Three ways to adjust hyperparamters\n",
    "1. By Hand\n",
    "2. Randommly with RandomSearchCV\n",
    "3. Exhustively with GridSearchCV"
   ]
  },
  {
   "cell_type": "code",
   "execution_count": 5,
   "id": "98069cae",
   "metadata": {},
   "outputs": [
    {
     "name": "stdout",
     "output_type": "stream",
     "text": [
      "Regression metrics on the test set\n",
      "R2: 0.8066196804802649\n",
      "MAE: 0.3265721842781009\n",
      "MSE: 0.2534073069137548\n"
     ]
    }
   ],
   "source": [
    "import pandas as pd\n",
    "import numpy as np\n",
    "import matplotlib.pyplot as plt\n",
    "%matplotlib inline\n",
    "\n",
    "# Get California housing dataset\n",
    "from sklearn.datasets import fetch_california_housing\n",
    "housing = fetch_california_housing()\n",
    "\n",
    "housing_df = pd.DataFrame(housing[\"data\"],columns=housing['feature_names'])\n",
    "\n",
    "housing_df['target'] = housing['target']\n",
    "housing_df.head()\n",
    "\n",
    "\n",
    "from sklearn.metrics import r2_score,mean_absolute_error,mean_squared_error\n",
    "from sklearn.ensemble import RandomForestRegressor\n",
    "from sklearn.model_selection import train_test_split\n",
    "np.random.seed(42)\n",
    "\n",
    "# create x & y\n",
    "x = housing_df.drop('target',axis=1)\n",
    "y = housing_df['target']\n",
    "\n",
    "# split the data\n",
    "x_train,x_test,y_train,y_test = train_test_split(x,y,test_size=0.2)\n",
    "\n",
    "#create model\n",
    "model = RandomForestRegressor()\n",
    "#fit model\n",
    "model.fit(x_train,y_train)\n",
    "\n",
    "y_preds = model.predict(x_test)\n",
    "\n",
    "#evaluate model using evaluate funcutions\n",
    "print(\"Regression metrics on the test set\")\n",
    "print(f\"R2: {r2_score(y_test,y_preds)}\")\n",
    "print(f\"MAE: {mean_absolute_error(y_test,y_preds)}\")\n",
    "print(f\"MSE: {mean_squared_error(y_test,y_preds)}\")\n"
   ]
  },
  {
   "cell_type": "code",
   "execution_count": 13,
   "id": "81c9f4bd",
   "metadata": {},
   "outputs": [
    {
     "name": "stdout",
     "output_type": "stream",
     "text": [
      "Classification metrics on the test set\n",
      "Accuracy: 85.25%\n",
      "Precision: 0.8484848484848485\n",
      "Recall: 0.875\n",
      "F1: 0.8615384615384615\n"
     ]
    }
   ],
   "source": [
    "from sklearn.metrics import accuracy_score,precision_score,recall_score,f1_score\n",
    "from sklearn.ensemble import RandomForestClassifier\n",
    "from sklearn.model_selection import train_test_split\n",
    "\n",
    "np.random.seed(42)\n",
    "\n",
    "heart_disease = pd.read_csv('./../data/heart-disease.csv')\n",
    "\n",
    "# create x & y\n",
    "x = heart_disease.drop('target',axis=1)\n",
    "y = heart_disease['target']\n",
    "\n",
    "# split the data\n",
    "x_train,x_test,y_train,y_test = train_test_split(x,y,test_size=0.2)\n",
    "\n",
    "#create model\n",
    "clf = RandomForestClassifier()\n",
    "\n",
    "#fit model\n",
    "clf.fit(x_train,y_train)\n",
    "\n",
    "y_preds = clf.predict(x_test)\n",
    "\n",
    "#evaluate model using evaluate funcutions\n",
    "print(\"Classification metrics on the test set\")\n",
    "print(f\"Accuracy: {accuracy_score(y_test,y_preds)*100:0.2f}%\")\n",
    "print(f\"Precision: {precision_score(y_test,y_preds)}\")\n",
    "print(f\"Recall: {recall_score(y_test,y_preds)}\")\n",
    "print(f\"F1: {f1_score(y_test,y_preds)}\")"
   ]
  },
  {
   "cell_type": "code",
   "execution_count": 12,
   "id": "17fbb345",
   "metadata": {},
   "outputs": [],
   "source": [
    "from sklearn.ensemble import RandomForestClassifier\n",
    "\n",
    "clf = RandomForestClassifier()"
   ]
  },
  {
   "cell_type": "code",
   "execution_count": 11,
   "id": "241e992c",
   "metadata": {},
   "outputs": [
    {
     "data": {
      "text/plain": [
       "{'bootstrap': True,\n",
       " 'ccp_alpha': 0.0,\n",
       " 'class_weight': None,\n",
       " 'criterion': 'gini',\n",
       " 'max_depth': None,\n",
       " 'max_features': 'auto',\n",
       " 'max_leaf_nodes': None,\n",
       " 'max_samples': None,\n",
       " 'min_impurity_decrease': 0.0,\n",
       " 'min_samples_leaf': 1,\n",
       " 'min_samples_split': 2,\n",
       " 'min_weight_fraction_leaf': 0.0,\n",
       " 'n_estimators': 100,\n",
       " 'n_jobs': None,\n",
       " 'oob_score': False,\n",
       " 'random_state': None,\n",
       " 'verbose': 0,\n",
       " 'warm_start': False}"
      ]
     },
     "execution_count": 11,
     "metadata": {},
     "output_type": "execute_result"
    }
   ],
   "source": [
    "# All the hyper parameter of a model\n",
    "clf.get_params()"
   ]
  },
  {
   "cell_type": "markdown",
   "id": "6ec39925",
   "metadata": {},
   "source": [
    "Random Forest Hyperparameters - https://scikit-learn.org/stable/modules/generated/sklearn.ensemble.RandomForestClassifier.html\n",
    "\n",
    "<img src = \"images/sklearn-hyperparameter-tuning-oven.png\">"
   ]
  },
  {
   "cell_type": "markdown",
   "id": "18cf6cd2",
   "metadata": {},
   "source": [
    "### 5.1 Hyperparameter Tunning - By Hand\n",
    "\n",
    "<img src = 'images/hyper-tunning-hands.png'>\n",
    "\n",
    "Let's make 3 sets, training, validation and test. "
   ]
  },
  {
   "cell_type": "markdown",
   "id": "b0496cf7",
   "metadata": {},
   "source": [
    "#### Which hyperparameter should we choose to adjust. \n",
    "    * Take suggestions from sklearn documentation \n",
    "\n",
    "Following Hyperparameters we will adjust.\n",
    "* `max_depth`\n",
    "* `max_features`\n",
    "* `min_sample_leaf`\n",
    "* `min_sample_split`\n",
    "* `n_estimators`"
   ]
  },
  {
   "cell_type": "code",
   "execution_count": null,
   "id": "d8c3a8f8",
   "metadata": {},
   "outputs": [],
   "source": [
    "# we create function to do hyper-parameter tuning repeatable\n",
    "\n",
    "def evaluate_preds(y_true,y_preds):\n",
    "    \"\"\"\n",
    "    Performs evaluation comparision y_true labels vs. y_pred labels.\n",
    "    \"\"\"\n",
    "    \n",
    "    accuracy = accuracy(y_true,y_preds)\n",
    "    precision = precision_score(y_true,y_preds)\n",
    "    recall = recall_score(y_true,y_preds)\n",
    "    f1 = f1_score(y_true,y_preds)\n",
    "    metric_dict = {'accuracy': round(accuracy,2),\n",
    "                 'precision': round(precison,2),\n",
    "                 'recall': round(recall,2),\n",
    "                 'f1': round(f1,2)}\n",
    "    \n",
    "    print(f\"Accuracy: {accuracy*100:0.2f}%\")    \n",
    "    print(f\"Precision: {precision:0.2f}\")    \n",
    "    print(f\"Recall: {recall:0.2f}\")    \n",
    "    print(f\"F1 Score: {f1:0.2f}\")\n",
    "    \n",
    "    return metric_dict"
   ]
  }
 ],
 "metadata": {
  "kernelspec": {
   "display_name": "Python 3 (ipykernel)",
   "language": "python",
   "name": "python3"
  },
  "language_info": {
   "codemirror_mode": {
    "name": "ipython",
    "version": 3
   },
   "file_extension": ".py",
   "mimetype": "text/x-python",
   "name": "python",
   "nbconvert_exporter": "python",
   "pygments_lexer": "ipython3",
   "version": "3.9.13"
  }
 },
 "nbformat": 4,
 "nbformat_minor": 5
}
