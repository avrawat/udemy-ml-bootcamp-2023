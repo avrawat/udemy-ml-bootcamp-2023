{
 "cells": [
  {
   "cell_type": "markdown",
   "id": "5f5a3a55",
   "metadata": {},
   "source": [
    "<img src = './../images/ml101-steps-to-take-in-a-machine-learning-project.png'>"
   ]
  },
  {
   "cell_type": "code",
   "execution_count": 1,
   "id": "ee84e51c",
   "metadata": {},
   "outputs": [],
   "source": [
    "import pandas as pd\n",
    "import numpy as np\n",
    "\n",
    "%matplotlib inline\n",
    "\n",
    "import matplotlib.pyplot as plt"
   ]
  },
  {
   "cell_type": "code",
   "execution_count": null,
   "id": "23985616",
   "metadata": {},
   "outputs": [],
   "source": [
    "heart_disease = "
   ]
  }
 ],
 "metadata": {
  "kernelspec": {
   "display_name": "Python 3 (ipykernel)",
   "language": "python",
   "name": "python3"
  },
  "language_info": {
   "codemirror_mode": {
    "name": "ipython",
    "version": 3
   },
   "file_extension": ".py",
   "mimetype": "text/x-python",
   "name": "python",
   "nbconvert_exporter": "python",
   "pygments_lexer": "ipython3",
   "version": "3.9.13"
  }
 },
 "nbformat": 4,
 "nbformat_minor": 5
}
